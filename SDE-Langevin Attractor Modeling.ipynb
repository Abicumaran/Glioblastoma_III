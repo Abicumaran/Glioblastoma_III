{
 "cells": [
  {
   "cell_type": "code",
   "execution_count": 2,
   "id": "731dc213",
   "metadata": {},
   "outputs": [
    {
     "name": "stdout",
     "output_type": "stream",
     "text": [
      "Data shape after log normalization: (1943, 23658)\n"
     ]
    }
   ],
   "source": [
    "import pandas as pd\n",
    "import numpy as np\n",
    "import matplotlib.pyplot as plt\n",
    "from scipy.integrate import solve_ivp\n",
    "from scipy.optimize import minimize, differential_evolution\n",
    "from sklearn.decomposition import PCA\n",
    "from sklearn.cluster import KMeans\n",
    "from sklearn.ensemble import RandomForestClassifier\n",
    "import os\n",
    "\n",
    "# Create output directory if it does not exist\n",
    "output_dir = 'output'\n",
    "os.makedirs(output_dir, exist_ok=True)\n",
    "\n",
    "# Load the gene expression data\n",
    "data = pd.read_csv('IDHWT.csv')\n",
    "genes = data['Gene'].values\n",
    "data = data.drop(columns=['Gene']).values\n",
    "\n",
    "# Transpose the data to have cells as columns and genes as rows\n",
    "data = data.T\n",
    "\n",
    "# Log normalize the counts\n",
    "data = np.log1p(data)\n",
    "\n",
    "print(\"Data shape after log normalization:\", data.shape)\n"
   ]
  },
  {
   "cell_type": "code",
   "execution_count": null,
   "id": "982c35f7",
   "metadata": {},
   "outputs": [],
   "source": [
    "# Define the drift term F(x)\n",
    "def drift(x, params):\n",
    "    return -params[0] * x + params[1]\n",
    "\n",
    "# Define the noise term σ(x)\n",
    "def noise(x, params):\n",
    "    return params[2] * np.random.normal(size=x.shape)\n",
    "\n",
    "# Langevin dynamics simulation\n",
    "def langevin_dynamics(x0, params, T, dt):\n",
    "    t = np.arange(0, T, dt)\n",
    "    x = np.zeros((len(t), len(x0)))\n",
    "    x[0] = x0\n",
    "    for i in range(1, len(t)):\n",
    "        x[i] = x[i-1] + drift(x[i-1], params) * dt + noise(x[i-1], params) * np.sqrt(dt)\n",
    "    return x\n",
    "\n",
    "x0 = np.mean(data, axis=0)\n",
    "params = [1.0, 0.5, 0.1]\n",
    "T = 10.0\n",
    "dt = 0.01\n",
    "x_simulated = langevin_dynamics(x0, params, T, dt)\n",
    "\n",
    "# Plot and save the trajectories\n",
    "plt.figure(figsize=(10, 6))\n",
    "for i in range(x_simulated.shape[1]):\n",
    "    plt.plot(x_simulated[:, i], label=f'Gene {i+1}')\n",
    "plt.xlabel('Time steps')\n",
    "plt.ylabel('Gene Expression')\n",
    "plt.legend()\n",
    "plt.savefig(os.path.join(output_dir, 'trajectories2.png'))\n",
    "plt.show()\n"
   ]
  },
  {
   "cell_type": "code",
   "execution_count": 4,
   "id": "9ed5a946",
   "metadata": {},
   "outputs": [
    {
     "name": "stdout",
     "output_type": "stream",
     "text": [
      "Optimized Parameters: [0.99999992 0.49999995 0.0999999 ]\n"
     ]
    }
   ],
   "source": [
    "# Define the objective function\n",
    "def objective_function(params, x0, T, dt, actual_data):\n",
    "    simulated_data = langevin_dynamics(x0, params, T, dt)\n",
    "    if simulated_data.shape != actual_data.shape:\n",
    "        min_length = min(simulated_data.shape[0], actual_data.shape[0])\n",
    "        simulated_data = simulated_data[:min_length, :]\n",
    "        actual_data = actual_data[:min_length, :]\n",
    "    mse = np.mean((simulated_data - actual_data)**2)\n",
    "    return mse\n",
    "\n",
    "x0 = np.mean(data, axis=0)\n",
    "T = 10.0\n",
    "dt = 0.01\n",
    "initial_params = [1.0, 0.5, 0.1]\n",
    "result = minimize(objective_function, initial_params, args=(x0, T, dt, data), method='L-BFGS-B')\n",
    "optimized_params = result.x\n",
    "print(\"Optimized Parameters:\", optimized_params)\n"
   ]
  },
  {
   "cell_type": "code",
   "execution_count": 4,
   "id": "0dfa3c50",
   "metadata": {},
   "outputs": [
    {
     "name": "stdout",
     "output_type": "stream",
     "text": [
      "Optimized Parameters (DE): [7.25994451 1.96115408 0.01459527]\n"
     ]
    }
   ],
   "source": [
    "bounds = [(0.1, 10), (0.1, 10), (0.01, 1)]\n",
    "result_de = differential_evolution(objective_function, bounds, args=(x0, T, dt, data))\n",
    "optimized_params_de = result_de.x\n",
    "print(\"Optimized Parameters (DE):\", optimized_params_de)"
   ]
  },
  {
   "cell_type": "code",
   "execution_count": 5,
   "id": "38359f23",
   "metadata": {},
   "outputs": [
    {
     "data": {
      "image/png": "[encoded data removed]",
      "text/plain": [
       "<Figure size 720x432 with 1 Axes>"
      ]
     },
     "metadata": {
      "needs_background": "light"
     },
     "output_type": "display_data"
    },
    {
     "data": {
      "image/png": "[encoded data removed]",
      "text/plain": [
       "<Figure size 720x432 with 1 Axes>"
      ]
     },
     "metadata": {
      "needs_background": "light"
     },
     "output_type": "display_data"
    }
   ],
   "source": [
    "# Simulate the dynamics with optimized parameters\n",
    "x_simulated = langevin_dynamics(x0, optimized_params, T, dt)\n",
    "#x_simulated = langevin_dynamics(x0, optimized_params_de, T, dt)\n",
    "\n",
    "# PCA for dimensionality reduction\n",
    "pca = PCA(n_components=2)\n",
    "x_pca = pca.fit_transform(x_simulated)\n",
    "\n",
    "# KMeans clustering\n",
    "n_clusters = 3\n",
    "kmeans = KMeans(n_clusters=n_clusters)\n",
    "clusters = kmeans.fit_predict(x_pca)\n",
    "\n",
    "# Plot and save the clustered trajectories\n",
    "plt.figure(figsize=(10, 6))\n",
    "for cluster in range(n_clusters):\n",
    "    plt.scatter(x_pca[clusters == cluster, 0], x_pca[clusters == cluster, 1], label=f'Cluster {cluster}')\n",
    "plt.xlabel('PCA Component 1')\n",
    "plt.ylabel('PCA Component 2')\n",
    "plt.legend()\n",
    "plt.savefig(os.path.join(output_dir, 'clustered_trajectories2.png'))\n",
    "plt.show()\n",
    "\n",
    "# Random Forest classifier for feature importance\n",
    "X = x_simulated\n",
    "y = clusters\n",
    "rf = RandomForestClassifier(n_estimators=100)\n",
    "rf.fit(X, y)\n",
    "\n",
    "# Feature importance\n",
    "importances = rf.feature_importances_\n",
    "indices = np.argsort(importances)[::-1]\n",
    "\n",
    "# Save the important genes\n",
    "important_genes = [genes[i] for i in indices]\n",
    "importance_scores = importances[indices]\n",
    "\n",
    "important_genes_df = pd.DataFrame({\n",
    "    'Gene': important_genes,\n",
    "    'Importance': importance_scores\n",
    "})\n",
    "important_genes_df.to_csv(os.path.join(output_dir, 'important_genes.csv'), index=False)\n",
    "\n",
    "# Plot and save feature importances\n",
    "plt.figure(figsize=(10, 6))\n",
    "plt.title(\"Feature Importance\")\n",
    "plt.bar(range(X.shape[1]), importances[indices], align=\"center\")\n",
    "plt.xticks(range(X.shape[1]), indices)\n",
    "plt.xlabel('Gene')\n",
    "plt.ylabel('Importance')\n",
    "plt.savefig(os.path.join(output_dir, 'feature_importance.png'))\n",
    "plt.show()\n"
   ]
  },
  {
   "cell_type": "code",
   "execution_count": 8,
   "id": "ed5af0e1",
   "metadata": {},
   "outputs": [],
   "source": [
    "#BDM Perturbation Analysis\n",
    "\n",
    "import pandas as pd\n",
    "import numpy as np\n",
    "from pybdm import BDM\n",
    "from pybdm.algorithms import PerturbationExperiment\n",
    "import os\n",
    "import matplotlib.pyplot as plt\n",
    "\n",
    "# Create output directory if it does not exist\n",
    "output_dir = 'output'\n",
    "os.makedirs(output_dir, exist_ok=True)\n",
    "\n",
    "# Step 1: Read all important genes\n",
    "important_genes_df = pd.read_csv('output/important_genes.csv')\n",
    "important_genes = important_genes_df['Gene'].values\n",
    "\n",
    "# Step 2: Read the gene expression data\n",
    "data = pd.read_csv('IDHWT.csv')\n",
    "\n",
    "# Extract the counts for the important genes\n",
    "important_data = data.set_index('Gene').loc[important_genes].values\n",
    "\n",
    "# Step 3: Log-normalize the counts\n",
    "important_data_log_normalized = np.log1p(important_data)\n",
    "\n",
    "# Step 4: Binarize the data using a fixed threshold of 0.1\n",
    "fixed_threshold = 0.1\n",
    "important_data_binarized = (important_data_log_normalized >= fixed_threshold).astype(int)"
   ]
  },
  {
   "cell_type": "code",
   "execution_count": 9,
   "id": "09c32e35",
   "metadata": {},
   "outputs": [],
   "source": [
    "# Step 5: Initialize BDM object\n",
    "bdm = BDM(ndim=2)\n",
    "\n",
    "# Step 6: Initialize perturbation experiment object\n",
    "perturbation = PerturbationExperiment(bdm, important_data_binarized, metric='bdm')\n",
    "\n",
    "# Compute BDM change for all data points\n",
    "delta_bdm = perturbation.run()\n"
   ]
  },
  {
   "cell_type": "code",
   "execution_count": 10,
   "id": "cc535842",
   "metadata": {},
   "outputs": [
    {
     "name": "stdout",
     "output_type": "stream",
     "text": [
      "        Gene  BDM Change\n",
      "    C6orf195   28.725452\n",
      "     MIR4488   28.664675\n",
      "   LINC00520   26.131638\n",
      " RPS10-NUDT3   26.005122\n",
      "       REEP5   25.966545\n",
      "      POU4F3    1.574712\n",
      "     MIR517C    1.288459\n",
      "        TLR9    0.912537\n",
      "        SELP    0.736966\n",
      "        NOL8    0.497500\n",
      "        NACA    0.459432\n",
      "       GRIP2    0.299560\n",
      "    C19orf10    0.289507\n",
      "       ITSN2    0.269461\n",
      "       RAB1B    0.269461\n",
      "    TBC1D22A    0.222392\n",
      "       CHST9    0.222392\n",
      "        DERA    0.206451\n",
      "     MIR4471    0.195920\n",
      "         HBZ    0.191299\n",
      "       CEP72    0.185032\n",
      "       PTCH1    0.183122\n",
      "       TCF12    0.183122\n",
      "LOC100132831    0.183122\n",
      "      NDUFA2    0.183122\n",
      "       DUOX1    0.169925\n",
      "       RPL27    0.169925\n",
      "       LYNX1    0.160992\n",
      "       CIRBP    0.160465\n",
      "       LAMB3    0.160465\n"
     ]
    }
   ],
   "source": [
    "# Ensure delta_bdm is a 1D array for consistent processing\n",
    "delta_bdm = delta_bdm.flatten()\n",
    "\n",
    "# Make sure the lengths of important_genes and delta_bdm match\n",
    "if len(delta_bdm) > len(important_genes):\n",
    "    delta_bdm = delta_bdm[:len(important_genes)]\n",
    "elif len(delta_bdm) < len(important_genes):\n",
    "    important_genes = important_genes[:len(delta_bdm)]\n",
    "\n",
    "# Associate delta_bdm values with gene names\n",
    "perturbation_df = pd.DataFrame({\n",
    "    'Gene': important_genes,\n",
    "    'BDM Change': delta_bdm\n",
    "})\n",
    "\n",
    "# Sort the genes by BDM Change and get the top 30\n",
    "top_30_perturbation_df = perturbation_df.sort_values(by='BDM Change', ascending=False).head(30)\n",
    "\n",
    "# Print the top 30 genes with their BDM Change values\n",
    "print(top_30_perturbation_df.to_string(index=False))"
   ]
  },
  {
   "cell_type": "code",
   "execution_count": 11,
   "id": "8224674d",
   "metadata": {},
   "outputs": [
    {
     "name": "stdout",
     "output_type": "stream",
     "text": [
      "       Gene  BDM Change\n",
      "   C6orf195   28.725452\n",
      "    MIR4488   28.664675\n",
      "  LINC00520   26.131638\n",
      "RPS10-NUDT3   26.005122\n",
      "      REEP5   25.966545\n",
      "     POU4F3    1.574712\n",
      "    MIR517C    1.288459\n",
      "       TLR9    0.912537\n",
      "       SELP    0.736966\n",
      "       NOL8    0.497500\n"
     ]
    },
    {
     "data": {
      "image/png": "[encoded data removed]",
      "text/plain": [
       "<Figure size 720x432 with 1 Axes>"
      ]
     },
     "metadata": {
      "needs_background": "light"
     },
     "output_type": "display_data"
    }
   ],
   "source": [
    "# Ensure delta_bdm is a 1D array for consistent processing\n",
    "delta_bdm = delta_bdm.flatten()\n",
    "\n",
    "# Make sure the lengths of important_genes and delta_bdm match\n",
    "if len(delta_bdm) > len(important_genes):\n",
    "    delta_bdm = delta_bdm[:len(important_genes)]\n",
    "elif len(delta_bdm) < len(important_genes):\n",
    "    important_genes = important_genes[:len(delta_bdm)]\n",
    "\n",
    "# Associate delta_bdm values with gene names\n",
    "perturbation_df = pd.DataFrame({\n",
    "    'Gene': important_genes,\n",
    "    'BDM Change': delta_bdm\n",
    "})\n",
    "\n",
    "# Save the perturbations for all genes\n",
    "perturbation_df.to_csv(os.path.join(output_dir, 'perturbation_genes.csv'), index=False)\n",
    "\n",
    "# Sort the genes by BDM Change and get the top 10\n",
    "top_10_perturbation_df = perturbation_df.sort_values(by='BDM Change', ascending=False).head(10)\n",
    "\n",
    "# Print the top 30 genes with their BDM Change values\n",
    "print(top_10_perturbation_df.to_string(index=False))\n",
    "\n",
    "# Plot the top 10 perturbation scores\n",
    "plt.figure(figsize=(10, 6))\n",
    "plt.title(\"Top 10 Perturbation Impact on Genes\")\n",
    "plt.bar(range(10), top_10_perturbation_df['BDM Change'], align=\"center\")\n",
    "plt.xticks(range(10), top_10_perturbation_df['Gene'], rotation=90)\n",
    "plt.xlabel('Gene')\n",
    "plt.ylabel('BDM Change')\n",
    "plt.savefig(os.path.join(output_dir, 'top_10_perturbation_impact.png'))\n",
    "plt.show()"
   ]
  }
 ],
 "metadata": {
  "kernelspec": {
   "display_name": "Python 3 (ipykernel)",
   "language": "python",
   "name": "python3"
  },
  "language_info": {
   "codemirror_mode": {
    "name": "ipython",
    "version": 3
   },
   "file_extension": ".py",
   "mimetype": "text/x-python",
   "name": "python",
   "nbconvert_exporter": "python",
   "pygments_lexer": "ipython3",
   "version": "3.9.7"
  }
 },
 "nbformat": 4,
 "nbformat_minor": 5
}
